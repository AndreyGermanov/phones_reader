{
 "cells": [
  {
   "cell_type": "code",
   "execution_count": 3,
   "id": "0e63d1ac",
   "metadata": {},
   "outputs": [],
   "source": [
    "using Images,Flux,BSON"
   ]
  },
  {
   "cell_type": "code",
   "execution_count": 15,
   "id": "9af7bd15",
   "metadata": {},
   "outputs": [],
   "source": [
    "# Function that loads images from classified\n",
    "# folder to the dataset\n",
    "function createDataset(path)\n",
    "    X = []\n",
    "    y = []\n",
    "    for label in readdir(path)\n",
    "        for file in readdir(\"$path/$label\")\n",
    "            img = load(\"$path/$label/$file\")\n",
    "            data = reshape(Float32.(channelview(img)),28,28,1)\n",
    "            if length(X) == 0\n",
    "                X = data\n",
    "            else\n",
    "                X = cat(X,data,dims=3)\n",
    "            end\n",
    "            push!(y,parse(Float32,label))\n",
    "        end\n",
    "    end\n",
    "    return X,y\n",
    "end;"
   ]
  },
  {
   "cell_type": "code",
   "execution_count": 14,
   "id": "2d159e61",
   "metadata": {},
   "outputs": [],
   "source": [
    "# Load training and testing datasets from files\n",
    "x_train,y_train = createDataset(\"training\");\n",
    "x_test,y_test = createDataset(\"testing\");"
   ]
  },
  {
   "cell_type": "code",
   "execution_count": 11,
   "id": "d086d785",
   "metadata": {},
   "outputs": [],
   "source": [
    "# Reshape the data\n",
    "x_train = reshape(x_train, 28, 28, 1, :);\n",
    "x_test = reshape(x_test, 28, 28, 1, :);"
   ]
  },
  {
   "cell_type": "code",
   "execution_count": 12,
   "id": "3b97f70c",
   "metadata": {},
   "outputs": [],
   "source": [
    "# Define the Lenet v5 model\n",
    "model = Chain(\n",
    "    Conv((5,5),1 => 6, relu),\n",
    "    MaxPool((2,2)),\n",
    "    Conv((5,5),6 => 16, relu),\n",
    "    MaxPool((2,2)),\n",
    "    Flux.flatten,\n",
    "    Dense(256=>120,relu),\n",
    "    Dense(120=>84, relu),\n",
    "    Dense(84=>10, sigmoid),\n",
    "    softmax\n",
    ");"
   ]
  },
  {
   "cell_type": "code",
   "execution_count": 13,
   "id": "40173c5c",
   "metadata": {},
   "outputs": [],
   "source": [
    "# Function that measures the accuracy of\n",
    "# model on testing dataset\n",
    "function accuracy()\n",
    "\tcorrect = 0\n",
    "\tfor index in 1:length(y_test)\n",
    "    \tprobs = model(Flux.unsqueeze(x_test[:,:,:,index],dims=4))\n",
    "        predicted_digit = argmax(probs)[1]-1\n",
    "    \tif predicted_digit == y_test[index]\n",
    "        \tcorrect +=1\n",
    "        end\n",
    "    end\n",
    "    return correct/length(y_test)\n",
    "end;"
   ]
  },
  {
   "cell_type": "code",
   "execution_count": 34,
   "id": "1b269d8a",
   "metadata": {},
   "outputs": [
    {
     "name": "stdout",
     "output_type": "stream",
     "text": [
      "0.982\n",
      "0.9868\n",
      "0.9855\n",
      "0.9878\n",
      "0.9867\n",
      "0.9881\n",
      "0.9891\n",
      "0.9889\n",
      "0.9895\n",
      "0.9846\n"
     ]
    }
   ],
   "source": [
    "# Assemble the training data\n",
    "train_data = Flux.DataLoader((x_train,y_train), shuffle=true, batchsize=64)\n",
    "\n",
    "# Initialize the ADAM optimizer with default settings\n",
    "optimizer = Flux.setup(Adam(),model)\n",
    "\n",
    "# Define the loss function that uses the cross-entropy to \n",
    "# measure the error by comparing model predictions of data \n",
    "# row \"x\" with true data from labels vector \"y\"\n",
    "function loss(model, x, y)\n",
    "\treturn Flux.crossentropy(model(x),Flux.onehotbatch(y,0:9))\n",
    "end\n",
    "\n",
    "# Train the model 10 times in a loop\n",
    "# and display the accuracy on each\n",
    "# iteration\n",
    "for epoch in 1:10\n",
    "\tFlux.train!(loss, model, train_data, optimizer)\n",
    "    println(accuracy())\n",
    "end"
   ]
  },
  {
   "cell_type": "code",
   "execution_count": 10,
   "id": "c8249ac3",
   "metadata": {},
   "outputs": [],
   "source": [
    "# Save trained model to a file\n",
    "BSON.@save \"digits.bson\" model"
   ]
  }
 ],
 "metadata": {
  "kernelspec": {
   "display_name": "Julia 1.8.5",
   "language": "julia",
   "name": "julia-1.8"
  },
  "language_info": {
   "file_extension": ".jl",
   "mimetype": "application/julia",
   "name": "julia",
   "version": "1.8.5"
  }
 },
 "nbformat": 4,
 "nbformat_minor": 5
}
